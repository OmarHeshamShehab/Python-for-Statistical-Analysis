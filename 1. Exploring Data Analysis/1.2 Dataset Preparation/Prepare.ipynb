{
 "cells": [
  {
   "cell_type": "markdown",
   "metadata": {},
   "source": [
    "# Preparing a dataset\n",
    "\n",
    "* How does the dataset handle invalid values? \n",
    "* What do we want to do with null values?\n",
    "* Do we want to summarise, group or filter the data?"
   ]
  },
  {
   "cell_type": "code",
   "execution_count": null,
   "metadata": {},
   "outputs": [],
   "source": []
  },
  {
   "cell_type": "code",
   "execution_count": null,
   "metadata": {},
   "outputs": [],
   "source": []
  },
  {
   "cell_type": "markdown",
   "metadata": {},
   "source": [
    "So it looks like they are using `0` values where they dont have data. I don't think theyre using `NaN` at all, but if they were we could either drop those rows (`dropna`) or fill them to some value (`fillna`). Because they're using `0` already, it might be prudent to do this just in case."
   ]
  },
  {
   "cell_type": "code",
   "execution_count": null,
   "metadata": {},
   "outputs": [],
   "source": []
  },
  {
   "cell_type": "markdown",
   "metadata": {},
   "source": [
    "So now we know there are `NaN` values. We could also have just, you know, checked for `NaN`, but now I'm trying to show functions you can use.\n",
    "\n",
    "So, what to do with these zero values. In some cases we could fill them with something sensible, but that normally just biases the data. So mostly we'd ignore them. So what we want to do is ask *how* we want to use the data. Will we be using `SkinThickness`? Do we care if there are non-physical outliers?\n",
    "\n",
    "If we cared about Glucose, BMI and Age primarily, we could get rid of a ton of these issues but only looking at those columns"
   ]
  },
  {
   "cell_type": "code",
   "execution_count": null,
   "metadata": {},
   "outputs": [],
   "source": []
  },
  {
   "cell_type": "code",
   "execution_count": null,
   "metadata": {},
   "outputs": [],
   "source": []
  },
  {
   "cell_type": "code",
   "execution_count": null,
   "metadata": {},
   "outputs": [],
   "source": []
  },
  {
   "cell_type": "markdown",
   "metadata": {},
   "source": [
    "But now lets get rid of any stray zeros. \n",
    "\n",
    "What we want to do is find a row with *any* number of zeros and remove that row. Or in terms of applying a mask, find the rows which have any zero (True), invert that (to False) so when we apply the mask using `loc`, the False entries get dropped."
   ]
  },
  {
   "cell_type": "code",
   "execution_count": null,
   "metadata": {},
   "outputs": [],
   "source": []
  },
  {
   "cell_type": "markdown",
   "metadata": {},
   "source": [
    "Great, so we've selected the data we cared about, made sure it has no `null`-like values. We'll go on to checking things look sane with some plots in the next section. One final thing we could do is to group the data by outcome. It might make it easier to look for patterns in diagnoses.\n",
    "\n",
    "We can do this either by splitting out the DataFrame into two (one for yes and one for no), or if we wanted summary statistics we could use the `groupBy` function:"
   ]
  },
  {
   "cell_type": "code",
   "execution_count": null,
   "metadata": {},
   "outputs": [],
   "source": []
  },
  {
   "cell_type": "markdown",
   "metadata": {},
   "source": [
    "And what this can tell us is that, in general, the higher your glucose level, the more overweight you are, and the older you are, the greater your chance of being diagnosed with diabetes. Which, perhaps, is not that surprising.\n",
    "\n",
    "We can do other things using the `groupby` statement, like so:"
   ]
  },
  {
   "cell_type": "code",
   "execution_count": null,
   "metadata": {},
   "outputs": [],
   "source": []
  },
  {
   "cell_type": "code",
   "execution_count": null,
   "metadata": {},
   "outputs": [],
   "source": []
  },
  {
   "cell_type": "markdown",
   "metadata": {},
   "source": [
    "We can also split the dataset into positive and negative outcomes if we wanted. *If*."
   ]
  },
  {
   "cell_type": "code",
   "execution_count": null,
   "metadata": {},
   "outputs": [],
   "source": []
  },
  {
   "cell_type": "markdown",
   "metadata": {},
   "source": [
    "We won't use this splitting just yet, so lets save out the cleaned and prepared dataset, `df3` to file, so our analysis code can load it in the future without having to copy-paste the data prep code into future notebooks."
   ]
  },
  {
   "cell_type": "code",
   "execution_count": null,
   "metadata": {},
   "outputs": [],
   "source": []
  }
 ],
 "metadata": {
  "kernelspec": {
   "display_name": "Python 3",
   "language": "python",
   "name": "python3"
  },
  "language_info": {
   "codemirror_mode": {
    "name": "ipython",
    "version": 3
   },
   "file_extension": ".py",
   "mimetype": "text/x-python",
   "name": "python",
   "nbconvert_exporter": "python",
   "pygments_lexer": "ipython3",
   "version": "3.11.11"
  }
 },
 "nbformat": 4,
 "nbformat_minor": 2
}
