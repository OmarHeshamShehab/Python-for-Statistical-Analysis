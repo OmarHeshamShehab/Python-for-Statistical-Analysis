{
 "cells": [
  {
   "cell_type": "markdown",
   "metadata": {},
   "source": [
    "# N-D\n",
    "\n",
    "To explore higher dimensional data and the relationships between data attributes, we'll load in the file `Diabetes.csv`. It's from [from Kaggle](https://www.kaggle.com/uciml/pima-indians-diabetes-database). "
   ]
  },
  {
   "cell_type": "code",
   "execution_count": 1,
   "metadata": {},
   "outputs": [],
   "source": []
  },
  {
   "cell_type": "code",
   "execution_count": 2,
   "metadata": {},
   "outputs": [],
   "source": []
  },
  {
   "cell_type": "code",
   "execution_count": 3,
   "metadata": {},
   "outputs": [],
   "source": []
  },
  {
   "cell_type": "code",
   "execution_count": 4,
   "metadata": {},
   "outputs": [],
   "source": []
  },
  {
   "cell_type": "markdown",
   "metadata": {},
   "source": [
    "# Actually viewing the data\n",
    "\n",
    "So, surprisingly noone, its actually useful to view the data. Straight up by using head we can see that this dataset is utilising `0` to represent no value - unless some poor unfortunate soul actually has a skin thickness of 0. \n",
    "\n",
    "If we want to do more than expect the data, we can use the `describe` function we talked about in the previous section"
   ]
  },
  {
   "cell_type": "code",
   "execution_count": 5,
   "metadata": {},
   "outputs": [],
   "source": []
  },
  {
   "cell_type": "markdown",
   "metadata": {},
   "source": [
    "# Scatter Matrix\n",
    "\n",
    "This one is a useful one liner... but note that it only works with numeric data. If you want to include categorical data in there you should convert the categories into numeric labels."
   ]
  },
  {
   "cell_type": "code",
   "execution_count": 6,
   "metadata": {},
   "outputs": [],
   "source": []
  },
  {
   "cell_type": "code",
   "execution_count": 7,
   "metadata": {},
   "outputs": [],
   "source": []
  },
  {
   "cell_type": "markdown",
   "metadata": {},
   "source": [
    "The scatter plot gives us both the histograms for the distributions along the diagonal, and also a lot of 2D scatter plots off-diagonal. Not that this is a symmetric matrix, so I just look at the diagonal and below it normally. We can see that some variables have a lot of scatter and some are correlated (ie there is a direction in their scatter). Which leads us to...\n",
    "\n",
    "# Correlation Plots\n",
    "\n",
    "To easily quantify which variables / attributes are correlated with others!"
   ]
  },
  {
   "cell_type": "code",
   "execution_count": 8,
   "metadata": {},
   "outputs": [],
   "source": []
  },
  {
   "cell_type": "code",
   "execution_count": 9,
   "metadata": {},
   "outputs": [],
   "source": []
  },
  {
   "cell_type": "code",
   "execution_count": 10,
   "metadata": {},
   "outputs": [],
   "source": []
  },
  {
   "cell_type": "markdown",
   "metadata": {},
   "source": [
    "And you can see this is a symmetric matrix too. But it immedietly allows us to point out the most correlated and anti-correlated attributes. Some might just be common sense - Pregnancies v Age for example - but some might give us real insight into the data.\n",
    "\n",
    "\n",
    "# 2D Histograms\n",
    "\n",
    "For the rest of this section, we're going to use a different dataset which has more data in it. \n",
    "\n",
    "Useful when you have a *lot* of data. [See here for the API](https://matplotlib.org/api/_as_gen/matplotlib.pyplot.hist2d.html)"
   ]
  },
  {
   "cell_type": "code",
   "execution_count": 11,
   "metadata": {},
   "outputs": [],
   "source": []
  },
  {
   "cell_type": "code",
   "execution_count": 12,
   "metadata": {},
   "outputs": [],
   "source": []
  },
  {
   "cell_type": "markdown",
   "metadata": {},
   "source": [
    "# Contour plots\n",
    "\n",
    "Bit hard to get information from the 2D histogram isnt it? Too much noise in the image. What if we try and contour diagram? We'll have to bin the data ourself. The [contour API is here](https://matplotlib.org/api/_as_gen/matplotlib.pyplot.contour.html)"
   ]
  },
  {
   "cell_type": "code",
   "execution_count": 13,
   "metadata": {},
   "outputs": [],
   "source": []
  },
  {
   "cell_type": "markdown",
   "metadata": {},
   "source": [
    "Ouch, looks like its just as noisy with the contour plot! In general, for 2D histograms and contour plots, have a lot of data. We simply don't have enough data to get smooth results!\n",
    "\n",
    "# KDE Plots\n",
    "\n",
    "If only we could smooth the data ourselves. [Seaborn to the rescue!](https://seaborn.pydata.org/generated/seaborn.kdeplot.html)"
   ]
  },
  {
   "cell_type": "code",
   "execution_count": 14,
   "metadata": {},
   "outputs": [],
   "source": []
  },
  {
   "cell_type": "code",
   "execution_count": 15,
   "metadata": {},
   "outputs": [],
   "source": []
  },
  {
   "cell_type": "markdown",
   "metadata": {},
   "source": [
    "# In Defense of Simplicity\n",
    "\n",
    "Sometimes we don't need to go fancy. By pausing, taking stock of what we want to see, a scatter plot is normally fairly informative and very fast to plot."
   ]
  },
  {
   "cell_type": "code",
   "execution_count": 16,
   "metadata": {},
   "outputs": [],
   "source": []
  },
  {
   "cell_type": "markdown",
   "metadata": {},
   "source": [
    "# Treating points with probability\n",
    "\n",
    "Using the library ChainConsumer ([examples here](https://samreay.github.io/ChainConsumer/examples/index.html)). I wrote it, as I deal with MCMC chains and posterior samples for hours every day and needed better tools to analyse them.\n",
    "\n",
    "ChainConsumer is not a standard anaconda package, so you'll need to run the below to install it.\n",
    "\n",
    "`pip install chainconsumer`\n",
    "\n",
    "Note that without LaTeX for fancy labels, set `usetex=False` in the `configure` method. I've done this below for your version of the code, its not in the video."
   ]
  },
  {
   "cell_type": "code",
   "execution_count": 17,
   "metadata": {},
   "outputs": [],
   "source": []
  },
  {
   "cell_type": "code",
   "execution_count": 22,
   "metadata": {},
   "outputs": [],
   "source": []
  },
  {
   "cell_type": "code",
   "execution_count": null,
   "metadata": {},
   "outputs": [],
   "source": []
  },
  {
   "cell_type": "markdown",
   "metadata": {},
   "source": [
    "Remember, when you're visualising, start simple and add complexity as the data seems to indicate. No point wasting your time getting in real deep when its not needed.\n",
    "\n",
    "Oh and you might have noticed we've talked about a lot of plots, but not pie charts. Never use pie charts. Never."
   ]
  }
 ],
 "metadata": {
  "kernelspec": {
   "display_name": "Python 3",
   "language": "python",
   "name": "python3"
  },
  "language_info": {
   "name": "python",
   "version": "3.11.11"
  }
 },
 "nbformat": 4,
 "nbformat_minor": 2
}
